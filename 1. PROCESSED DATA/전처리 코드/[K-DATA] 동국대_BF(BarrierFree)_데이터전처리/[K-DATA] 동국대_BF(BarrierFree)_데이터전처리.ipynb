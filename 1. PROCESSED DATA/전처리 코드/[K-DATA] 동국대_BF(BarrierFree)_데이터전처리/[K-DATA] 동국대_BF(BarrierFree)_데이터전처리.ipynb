{
 "cells": [
  {
   "cell_type": "markdown",
   "metadata": {},
   "source": [
    "# [데이터 수집 및 전처리]"
   ]
  },
  {
   "cell_type": "code",
   "execution_count": 16,
   "metadata": {},
   "outputs": [],
   "source": [
    "import pandas as pd\n",
    "from pandas import DataFrame\n",
    "import numpy as np\n",
    "import requests\n",
    "from bs4 import BeautifulSoup\n",
    "import os\n",
    "from datetime import datetime"
   ]
  },
  {
   "cell_type": "markdown",
   "metadata": {},
   "source": [
    "# shp(서울시 동별) 데이터"
   ]
  },
  {
   "cell_type": "code",
   "execution_count": 2,
   "metadata": {},
   "outputs": [
    {
     "output_type": "execute_result",
     "data": {
      "text/plain": "       EMD_CD EMD_NM\n0    11710107    가락동\n1    11530103   가리봉동\n2    11545101    가산동\n3    11500104    가양동\n4    11110146    가회동\n..        ...    ...\n462  11170101    후암동\n463  11110150    훈정동\n464  11230109    휘경동\n465  11590105    흑석동\n466  11140163    흥인동\n\n[467 rows x 2 columns]",
      "text/html": "<div>\n<style scoped>\n    .dataframe tbody tr th:only-of-type {\n        vertical-align: middle;\n    }\n\n    .dataframe tbody tr th {\n        vertical-align: top;\n    }\n\n    .dataframe thead th {\n        text-align: right;\n    }\n</style>\n<table border=\"1\" class=\"dataframe\">\n  <thead>\n    <tr style=\"text-align: right;\">\n      <th></th>\n      <th>EMD_CD</th>\n      <th>EMD_NM</th>\n    </tr>\n  </thead>\n  <tbody>\n    <tr>\n      <th>0</th>\n      <td>11710107</td>\n      <td>가락동</td>\n    </tr>\n    <tr>\n      <th>1</th>\n      <td>11530103</td>\n      <td>가리봉동</td>\n    </tr>\n    <tr>\n      <th>2</th>\n      <td>11545101</td>\n      <td>가산동</td>\n    </tr>\n    <tr>\n      <th>3</th>\n      <td>11500104</td>\n      <td>가양동</td>\n    </tr>\n    <tr>\n      <th>4</th>\n      <td>11110146</td>\n      <td>가회동</td>\n    </tr>\n    <tr>\n      <th>...</th>\n      <td>...</td>\n      <td>...</td>\n    </tr>\n    <tr>\n      <th>462</th>\n      <td>11170101</td>\n      <td>후암동</td>\n    </tr>\n    <tr>\n      <th>463</th>\n      <td>11110150</td>\n      <td>훈정동</td>\n    </tr>\n    <tr>\n      <th>464</th>\n      <td>11230109</td>\n      <td>휘경동</td>\n    </tr>\n    <tr>\n      <th>465</th>\n      <td>11590105</td>\n      <td>흑석동</td>\n    </tr>\n    <tr>\n      <th>466</th>\n      <td>11140163</td>\n      <td>흥인동</td>\n    </tr>\n  </tbody>\n</table>\n<p>467 rows × 2 columns</p>\n</div>"
     },
     "metadata": {},
     "execution_count": 2
    }
   ],
   "source": [
    "dong_shp = pd.read_csv('DATA_LSMD_ADM_SECT_UMD_서울_동별_prc.csv', encoding = 'cp949')\n",
    "dong_shp_df = dong_shp.iloc[:, :2]\n",
    "dong_shp_df.columns = ['EMD_CD', 'EMD_NM']\n",
    "dong_shp_df"
   ]
  },
  {
   "cell_type": "markdown",
   "metadata": {},
   "source": [
    "# 장애인콜택시 이용고객 목적지(동단위) Best100"
   ]
  },
  {
   "cell_type": "markdown",
   "metadata": {},
   "source": [
    "### 1) 장애인콜택시 이용고객 목적지(동단위) Best100 - 크롤링"
   ]
  },
  {
   "cell_type": "code",
   "execution_count": 3,
   "metadata": {
    "tags": []
   },
   "outputs": [
    {
     "output_type": "display_data",
     "data": {
      "text/plain": "HBox(children=(FloatProgress(value=0.0, max=365.0), HTML(value='')))",
      "application/vnd.jupyter.widget-view+json": {
       "version_major": 2,
       "version_minor": 0,
       "model_id": "912a06cca5c74b469e81ec63960afa4d"
      }
     },
     "metadata": {}
    },
    {
     "output_type": "stream",
     "name": "stdout",
     "text": "\n"
    }
   ],
   "source": [
    "#2019.01.01 ~ 2019.12.31 장애인콜택시 이용고객 목적지(동단위) Best100데이터 수집 및 전처리\n",
    "\n",
    "#수집 기간 정의\n",
    "import datetime\n",
    "\n",
    "days_range = [] #날짜 저장할 리스트\n",
    "\n",
    "start = datetime.datetime.strptime(\"20190101\", \"%Y%m%d\") #시작점 : 2019.01.01\n",
    "end = datetime.datetime.strptime(\"20200101\", \"%Y%m%d\") #끝점 : 2019.12.31 -> 범위 + 1\n",
    "date_generated = [start + datetime.timedelta(days = x) for x in range(0, (end-start).days)]\n",
    "\n",
    "for date in date_generated:\n",
    "    days_range.append(date.strftime(\"%Y%m%d\"))\n",
    "\n",
    "\n",
    "#크롤러 작성\n",
    "from tqdm.notebook import tqdm\n",
    "\n",
    "temp = [] #날짜별 Best100 데이터 저장할 리스트\n",
    "\n",
    "#데이터 불러오기\n",
    "def get_data(url):\n",
    "    response = requests.get(url).text\n",
    "    df = pd.read_html(response)\n",
    "    return df\n",
    "\n",
    "#(날짜별) 포맷에 맞춰 url 크롤링\n",
    "for date in tqdm(days_range):\n",
    "    base_url = f'http://m.calltaxi.sisul.or.kr/api/open/newEXCEL0002.asp?key=29c3729265fa3b49c7d3e75147dc19a3&sDate={date}'\n",
    "    df1 = get_data(base_url)\n",
    "    \n",
    "    for row in df1:\n",
    "        row\n",
    "    \n",
    "    temp.append(row)\n",
    "\n",
    "# 날짜별 데이터 하나의 데이터셋으로 저장\n",
    "taxi_raw = pd.concat(temp, ignore_index = True)\n",
    "taxi_raw\n",
    "\n",
    "taxi_raw.to_csv('DATA_장애인콜택시 이용고객 목적지(동단위) Best100_raw.csv', encoding = 'cp949')\n",
    "\n",
    "# => 20190101 ~ 20191231 raw데이터 저장 완료\n"
   ]
  },
  {
   "cell_type": "markdown",
   "metadata": {},
   "source": [
    "### 2) 장애인콜택시 이용고객 목적지(동단위) Best100 전처리"
   ]
  },
  {
   "cell_type": "code",
   "execution_count": 4,
   "metadata": {},
   "outputs": [],
   "source": [
    "# taxi 데이터 칼럼명 변경\n",
    "taxi = taxi_raw.iloc[:]\n",
    "taxi.columns = ['DATE', 'SI_NM', 'GU_NM', 'EMD_NM', 'TAXI_CNT']\n",
    "\n",
    "\n",
    "# raw데이터에서 '서울특별시' 데이터만 출력해서 새로운 csv파일 저장\n",
    "taxi_seoul = taxi[taxi['SI_NM'] == '서울특별시']\n",
    "taxi_seoul.set_index(\"DATE\", inplace = True)\n",
    "taxi_seoul.to_csv('DATA_장애인콜택시 이용고객 목적지(동단위) Best100_Seoul_prc.csv', encoding = 'cp949')"
   ]
  },
  {
   "cell_type": "code",
   "execution_count": 5,
   "metadata": {},
   "outputs": [],
   "source": [
    "# 택시 데이터 동별 그룹핑 - 택시 건수 더하기\n",
    "\n",
    "taxi_seoul_df = pd.read_csv('DATA_장애인콜택시 이용고객 목적지(동단위) Best100_Seoul_prc.csv', encoding = 'cp949')\n",
    "taxi_seoul_df2 = taxi_seoul_df.iloc[:, 3:]\n",
    "taxi_dong = taxi_seoul_df2.groupby('EMD_NM').sum()\n",
    "taxi_dong\n",
    "\n",
    "taxi_dong.to_csv('DATA_장애인콜택시 이용고객 목적지(동단위) Best100_Seoul_dong_prc.csv', encoding = 'cp949')"
   ]
  },
  {
   "cell_type": "markdown",
   "metadata": {},
   "source": [
    "#### 데이터파일명 : DATA_장애인콜택시 이용고객 목적지(동단위) Best100_Seoul_dong_(법정동수정)_prc.csv\n",
    "\n",
    "-> 위의 데이터는 <DATA_장애인콜택시 이용고객 목적지(동단위) Best100_Seoul_dong_prc.csv> 데이터를 법정동 기준으로 전처리한 데이터\n",
    "\n",
    "[법정동 변경 기준]\n",
    "   \n",
    "   step1) 행정동 -> 법정동으로 변경 \n",
    "   \n",
    "   step2) 하나의 행정동이 여러 개의 법정동으로 나눠질 경우 주민센터 기준 법정동 전처리"
   ]
  },
  {
   "cell_type": "code",
   "execution_count": 6,
   "metadata": {},
   "outputs": [
    {
     "output_type": "execute_result",
     "data": {
      "text/plain": "        TAXI_CNT\nEMD_NM          \n가락동         2774\n가리봉동          92\n가산동          156\n가양동        13316\n갈현동          130\n...          ...\n회현동1가       1127\n효제동           43\n효창동          816\n휘경동         5731\n흑석동         2857\n\n[197 rows x 1 columns]",
      "text/html": "<div>\n<style scoped>\n    .dataframe tbody tr th:only-of-type {\n        vertical-align: middle;\n    }\n\n    .dataframe tbody tr th {\n        vertical-align: top;\n    }\n\n    .dataframe thead th {\n        text-align: right;\n    }\n</style>\n<table border=\"1\" class=\"dataframe\">\n  <thead>\n    <tr style=\"text-align: right;\">\n      <th></th>\n      <th>TAXI_CNT</th>\n    </tr>\n    <tr>\n      <th>EMD_NM</th>\n      <th></th>\n    </tr>\n  </thead>\n  <tbody>\n    <tr>\n      <th>가락동</th>\n      <td>2774</td>\n    </tr>\n    <tr>\n      <th>가리봉동</th>\n      <td>92</td>\n    </tr>\n    <tr>\n      <th>가산동</th>\n      <td>156</td>\n    </tr>\n    <tr>\n      <th>가양동</th>\n      <td>13316</td>\n    </tr>\n    <tr>\n      <th>갈현동</th>\n      <td>130</td>\n    </tr>\n    <tr>\n      <th>...</th>\n      <td>...</td>\n    </tr>\n    <tr>\n      <th>회현동1가</th>\n      <td>1127</td>\n    </tr>\n    <tr>\n      <th>효제동</th>\n      <td>43</td>\n    </tr>\n    <tr>\n      <th>효창동</th>\n      <td>816</td>\n    </tr>\n    <tr>\n      <th>휘경동</th>\n      <td>5731</td>\n    </tr>\n    <tr>\n      <th>흑석동</th>\n      <td>2857</td>\n    </tr>\n  </tbody>\n</table>\n<p>197 rows × 1 columns</p>\n</div>"
     },
     "metadata": {},
     "execution_count": 6
    }
   ],
   "source": [
    "# 행정동 -> 법정동 변경 완료된 데이터 다시 전처리 진행\n",
    "\n",
    "taxi_prc = pd.read_csv('DATA_장애인콜택시 이용고객 목적지(동단위) Best100_Seoul_dong_(법정동수정)_prc.csv', encoding = 'cp949')\n",
    "taxi_prc_df = taxi_prc.iloc[:, :2]\n",
    "\n",
    "taxi_prc_df2 = taxi_prc_df.groupby('EMD_NM').sum()\n",
    "taxi_prc_df2"
   ]
  },
  {
   "cell_type": "markdown",
   "metadata": {},
   "source": [
    "### 3) shp(서울시 동별) 데이터 + 장애인콜택시 목적지 Best100 데이터 JOIN"
   ]
  },
  {
   "cell_type": "code",
   "execution_count": 7,
   "metadata": {},
   "outputs": [],
   "source": [
    "#shp(동별) 데이터 기준 콜택시 목적지 데이터 조인\n",
    "\n",
    "taxi_df = pd.merge(left = dong_shp_df, right = taxi_prc_df2, how = 'left', on = 'EMD_NM')\n",
    "taxi_df = taxi_df.fillna(0)\n",
    "taxi_df.set_index('EMD_CD', inplace = True)\n",
    "taxi_df\n",
    "taxi_df.to_csv('DATA_장애인콜택시 이용고객 목적지(동단위) Best100_prc.csv', encoding = 'cp949')\n",
    "# => '장애인콜택시 목적지 Best100' 최종 전처리 완료 데이터"
   ]
  },
  {
   "cell_type": "markdown",
   "metadata": {},
   "source": [
    "# 장애인 구인 현황"
   ]
  },
  {
   "cell_type": "markdown",
   "metadata": {},
   "source": [
    "### 1) 장애인 구인 현황 전처리"
   ]
  },
  {
   "cell_type": "markdown",
   "metadata": {},
   "source": [
    "#### DATA_장애인 구인 현황_EMD_NM_prc.csv\n",
    "-> 위의 데이터는 <DATA_장애인 구인 현황_raw.csv> 데이터에 동 이름과 위/경도 추가한 데이터"
   ]
  },
  {
   "cell_type": "code",
   "execution_count": 8,
   "metadata": {},
   "outputs": [],
   "source": [
    "# 장애인 동별 구인현황 데이터 불러오기\n",
    "job = pd.read_csv(\"DATA_장애인 구인 현황_EMD_NM_prc.csv\", encoding = 'cp949')\n",
    "\n",
    "\n",
    "# raw 데이터에서 동별 구인현황 추출\n",
    "job_dong = job.groupby('EMD_NM')\n",
    "job_dong_sum = job_dong['구인인원'].sum()\n",
    "job_dong_df = pd.DataFrame(job_dong_sum)\n",
    "\n",
    "# shp(서울시 동별) 데이터와 조인 후 저장\n",
    "job_join = pd.merge(left = dong_shp_df, right = job_dong_df, how = 'right', on = 'EMD_NM')\n",
    "job_join.to_csv(\"DATA_장애인 구인 현황_EMD_NM_(shp)1stJOIN_prc.csv\", encoding = 'cp949')"
   ]
  },
  {
   "cell_type": "markdown",
   "metadata": {},
   "source": [
    "#### DATA_장애인 구인 현황_EMD_NM_(shp)1stJOIN_(법정동수정)_prc.csv\n",
    "-> 위의 데이터는 <DATA_장애인 구인 현황_EMD_NM_(shp)1stJOIN_prc.csv> 데이터를 법정동 기준으로 전처리한 데이터\n",
    "\n",
    "[법정동 변경 기준]\n",
    "\n",
    "step1) 행정동 -> 법정동으로 변경 \n",
    "\n",
    "step2) 하나의 행정동이 여러 개의 법정동으로 나눠질 경우 주민센터 기준 법정동 전처리"
   ]
  },
  {
   "cell_type": "code",
   "execution_count": 9,
   "metadata": {},
   "outputs": [
    {
     "output_type": "execute_result",
     "data": {
      "text/plain": "        EMPLOYEENUM\nEMD_NM             \n가락동               3\n가산동              27\n개포동               3\n거여동               4\n계동                1\n...             ...\n필동2가              1\n한강로3가             2\n한남동               2\n홍은동               3\n회현동2가             6\n\n[80 rows x 1 columns]",
      "text/html": "<div>\n<style scoped>\n    .dataframe tbody tr th:only-of-type {\n        vertical-align: middle;\n    }\n\n    .dataframe tbody tr th {\n        vertical-align: top;\n    }\n\n    .dataframe thead th {\n        text-align: right;\n    }\n</style>\n<table border=\"1\" class=\"dataframe\">\n  <thead>\n    <tr style=\"text-align: right;\">\n      <th></th>\n      <th>EMPLOYEENUM</th>\n    </tr>\n    <tr>\n      <th>EMD_NM</th>\n      <th></th>\n    </tr>\n  </thead>\n  <tbody>\n    <tr>\n      <th>가락동</th>\n      <td>3</td>\n    </tr>\n    <tr>\n      <th>가산동</th>\n      <td>27</td>\n    </tr>\n    <tr>\n      <th>개포동</th>\n      <td>3</td>\n    </tr>\n    <tr>\n      <th>거여동</th>\n      <td>4</td>\n    </tr>\n    <tr>\n      <th>계동</th>\n      <td>1</td>\n    </tr>\n    <tr>\n      <th>...</th>\n      <td>...</td>\n    </tr>\n    <tr>\n      <th>필동2가</th>\n      <td>1</td>\n    </tr>\n    <tr>\n      <th>한강로3가</th>\n      <td>2</td>\n    </tr>\n    <tr>\n      <th>한남동</th>\n      <td>2</td>\n    </tr>\n    <tr>\n      <th>홍은동</th>\n      <td>3</td>\n    </tr>\n    <tr>\n      <th>회현동2가</th>\n      <td>6</td>\n    </tr>\n  </tbody>\n</table>\n<p>80 rows × 1 columns</p>\n</div>"
     },
     "metadata": {},
     "execution_count": 9
    }
   ],
   "source": [
    "# 행정동 -> 법정동 변경 완료된 데이터 다시 전처리 진행\n",
    "# 동 수정 과정에서 동일한 동 데이터가 존재할 수 있기에 다시 동별로 구인 현황 sum\n",
    "\n",
    "job_prc = pd.read_csv('DATA_장애인 구인 현황_EMD_NM_(shp)1stJOIN_(법정동수정)_prc.csv', encoding = 'cp949')\n",
    "job_prc_df = job_prc.iloc[:, 1:3]\n",
    "\n",
    "job_prc_df2 = job_prc_df.groupby('EMD_NM').sum()\n",
    "job_prc_df2"
   ]
  },
  {
   "cell_type": "markdown",
   "metadata": {},
   "source": [
    "### 2) shp(서울시 동별) 데이터 + 장애인 구인 현황 데이터 JOIN"
   ]
  },
  {
   "cell_type": "code",
   "execution_count": 10,
   "metadata": {},
   "outputs": [],
   "source": [
    "# #shp(동별) 데이터 기준 장애인 구인 현황 데이터 조인 및 저장\n",
    "\n",
    "job_df = pd.merge(left = dong_shp_df, right = job_prc_df2, how = 'left', on = 'EMD_NM')\n",
    "job_df = job_df.fillna(0)\n",
    "job_df.set_index('EMD_CD', inplace = True)\n",
    "job_df.to_csv(\"DATA_장애인 구인 현황_prc.csv\", encoding = 'cp949')"
   ]
  },
  {
   "cell_type": "markdown",
   "metadata": {},
   "source": [
    "# 서울시 장애인 현황(장애유형별, 동별) 통계"
   ]
  },
  {
   "cell_type": "markdown",
   "metadata": {},
   "source": [
    "#### DATA_서울시 장애인 현황(장애유형별, 동별) 통계_prc.csv\n",
    "-> 위의 데이터는 <DATA_서울시 장애인 현황(장애유형별,동별) 통계_raw.txt> 데이터를 '지체/뇌병변/심장장애/호흡기장애'만 추출하여 동 이름 추가하고 장애인 수 카운트한 데이터"
   ]
  },
  {
   "cell_type": "code",
   "execution_count": 11,
   "metadata": {},
   "outputs": [
    {
     "output_type": "execute_result",
     "data": {
      "text/plain": "    EMD_NM    EMD_CD  DISABLED_NUM\n0      가락동  11710107          1235\n1     가리봉동  11530103           305\n2      가산동  11545101           437\n3      가양동  11500104          2654\n4      가회동  11110146            97\n..     ...       ...           ...\n207    효제동  11110162           158\n208    효창동  11170119           172\n209    후암동  11170101           627\n210    휘경동  11230109           941\n211    흑석동  11590105           665\n\n[212 rows x 3 columns]",
      "text/html": "<div>\n<style scoped>\n    .dataframe tbody tr th:only-of-type {\n        vertical-align: middle;\n    }\n\n    .dataframe tbody tr th {\n        vertical-align: top;\n    }\n\n    .dataframe thead th {\n        text-align: right;\n    }\n</style>\n<table border=\"1\" class=\"dataframe\">\n  <thead>\n    <tr style=\"text-align: right;\">\n      <th></th>\n      <th>EMD_NM</th>\n      <th>EMD_CD</th>\n      <th>DISABLED_NUM</th>\n    </tr>\n  </thead>\n  <tbody>\n    <tr>\n      <th>0</th>\n      <td>가락동</td>\n      <td>11710107</td>\n      <td>1235</td>\n    </tr>\n    <tr>\n      <th>1</th>\n      <td>가리봉동</td>\n      <td>11530103</td>\n      <td>305</td>\n    </tr>\n    <tr>\n      <th>2</th>\n      <td>가산동</td>\n      <td>11545101</td>\n      <td>437</td>\n    </tr>\n    <tr>\n      <th>3</th>\n      <td>가양동</td>\n      <td>11500104</td>\n      <td>2654</td>\n    </tr>\n    <tr>\n      <th>4</th>\n      <td>가회동</td>\n      <td>11110146</td>\n      <td>97</td>\n    </tr>\n    <tr>\n      <th>...</th>\n      <td>...</td>\n      <td>...</td>\n      <td>...</td>\n    </tr>\n    <tr>\n      <th>207</th>\n      <td>효제동</td>\n      <td>11110162</td>\n      <td>158</td>\n    </tr>\n    <tr>\n      <th>208</th>\n      <td>효창동</td>\n      <td>11170119</td>\n      <td>172</td>\n    </tr>\n    <tr>\n      <th>209</th>\n      <td>후암동</td>\n      <td>11170101</td>\n      <td>627</td>\n    </tr>\n    <tr>\n      <th>210</th>\n      <td>휘경동</td>\n      <td>11230109</td>\n      <td>941</td>\n    </tr>\n    <tr>\n      <th>211</th>\n      <td>흑석동</td>\n      <td>11590105</td>\n      <td>665</td>\n    </tr>\n  </tbody>\n</table>\n<p>212 rows × 3 columns</p>\n</div>"
     },
     "metadata": {},
     "execution_count": 11
    }
   ],
   "source": [
    "disabled_df = pd.read_csv('DATA_서울시 장애인 현황(장애유형별, 동별) 통계_prc.csv', encoding = 'cp949')\n",
    "disabled_df"
   ]
  },
  {
   "cell_type": "markdown",
   "metadata": {},
   "source": [
    "# 서울시 장애인시설 현황"
   ]
  },
  {
   "cell_type": "markdown",
   "metadata": {},
   "source": [
    "#### DATA_서울시 장애인시설 현황_prc.csv\n",
    "-> 위의 데이터는 <DATA_서울시 장애인시설 현황_raw.csv> 데이터를 QGIS에서 시각화 후 법정동별 개수 카운트한 데이터"
   ]
  },
  {
   "cell_type": "code",
   "execution_count": 12,
   "metadata": {},
   "outputs": [
    {
     "output_type": "execute_result",
     "data": {
      "text/plain": "    EMD_NM    EMD_CD  CENTER_CNT\n0      가락동  11710107           0\n1     가리봉동  11530103           2\n2      가산동  11545101           0\n3      가양동  11500104           4\n4      가회동  11110146           0\n..     ...       ...         ...\n462    후암동  11170101           1\n463    훈정동  11110150           0\n464    휘경동  11230109           1\n465    흑석동  11590105           0\n466    흥인동  11140163           0\n\n[467 rows x 3 columns]",
      "text/html": "<div>\n<style scoped>\n    .dataframe tbody tr th:only-of-type {\n        vertical-align: middle;\n    }\n\n    .dataframe tbody tr th {\n        vertical-align: top;\n    }\n\n    .dataframe thead th {\n        text-align: right;\n    }\n</style>\n<table border=\"1\" class=\"dataframe\">\n  <thead>\n    <tr style=\"text-align: right;\">\n      <th></th>\n      <th>EMD_NM</th>\n      <th>EMD_CD</th>\n      <th>CENTER_CNT</th>\n    </tr>\n  </thead>\n  <tbody>\n    <tr>\n      <th>0</th>\n      <td>가락동</td>\n      <td>11710107</td>\n      <td>0</td>\n    </tr>\n    <tr>\n      <th>1</th>\n      <td>가리봉동</td>\n      <td>11530103</td>\n      <td>2</td>\n    </tr>\n    <tr>\n      <th>2</th>\n      <td>가산동</td>\n      <td>11545101</td>\n      <td>0</td>\n    </tr>\n    <tr>\n      <th>3</th>\n      <td>가양동</td>\n      <td>11500104</td>\n      <td>4</td>\n    </tr>\n    <tr>\n      <th>4</th>\n      <td>가회동</td>\n      <td>11110146</td>\n      <td>0</td>\n    </tr>\n    <tr>\n      <th>...</th>\n      <td>...</td>\n      <td>...</td>\n      <td>...</td>\n    </tr>\n    <tr>\n      <th>462</th>\n      <td>후암동</td>\n      <td>11170101</td>\n      <td>1</td>\n    </tr>\n    <tr>\n      <th>463</th>\n      <td>훈정동</td>\n      <td>11110150</td>\n      <td>0</td>\n    </tr>\n    <tr>\n      <th>464</th>\n      <td>휘경동</td>\n      <td>11230109</td>\n      <td>1</td>\n    </tr>\n    <tr>\n      <th>465</th>\n      <td>흑석동</td>\n      <td>11590105</td>\n      <td>0</td>\n    </tr>\n    <tr>\n      <th>466</th>\n      <td>흥인동</td>\n      <td>11140163</td>\n      <td>0</td>\n    </tr>\n  </tbody>\n</table>\n<p>467 rows × 3 columns</p>\n</div>"
     },
     "metadata": {},
     "execution_count": 12
    }
   ],
   "source": [
    "welfare_df = pd.read_csv('DATA_서울시 장애인시설 현황_prc.csv', encoding = 'cp949')\n",
    "welfare_df"
   ]
  },
  {
   "cell_type": "markdown",
   "metadata": {},
   "source": [
    "# 서울시 신한카드 장애인 복지카드 이용현황"
   ]
  },
  {
   "cell_type": "markdown",
   "metadata": {},
   "source": [
    "#### DATA_서울시 신한카드 장애인 복지카드 이용현황_prc.csv\n",
    "-> 위의 데이터는 '서울시 빅데이터 캠퍼스'가 보유한 Raw Data의 법정동별 이용횟수를 QGIS에서 시각화하여 반출. 이후 시각화한 자료를 카운트한 데이터"
   ]
  },
  {
   "cell_type": "code",
   "execution_count": 13,
   "metadata": {},
   "outputs": [
    {
     "output_type": "execute_result",
     "data": {
      "text/plain": "    EMD_NM    EMD_CD  CARD\n0      가락동  11710107  3205\n1     가리봉동  11530103   471\n2      가산동  11545101  5397\n3      가양동  11500104  1911\n4      가회동  11110146   573\n..     ...       ...   ...\n462    후암동  11170101   716\n463    훈정동  11110150     0\n464    휘경동  11230109  1386\n465    흑석동  11590105  2740\n466    흥인동  11140163     0\n\n[467 rows x 3 columns]",
      "text/html": "<div>\n<style scoped>\n    .dataframe tbody tr th:only-of-type {\n        vertical-align: middle;\n    }\n\n    .dataframe tbody tr th {\n        vertical-align: top;\n    }\n\n    .dataframe thead th {\n        text-align: right;\n    }\n</style>\n<table border=\"1\" class=\"dataframe\">\n  <thead>\n    <tr style=\"text-align: right;\">\n      <th></th>\n      <th>EMD_NM</th>\n      <th>EMD_CD</th>\n      <th>CARD</th>\n    </tr>\n  </thead>\n  <tbody>\n    <tr>\n      <th>0</th>\n      <td>가락동</td>\n      <td>11710107</td>\n      <td>3205</td>\n    </tr>\n    <tr>\n      <th>1</th>\n      <td>가리봉동</td>\n      <td>11530103</td>\n      <td>471</td>\n    </tr>\n    <tr>\n      <th>2</th>\n      <td>가산동</td>\n      <td>11545101</td>\n      <td>5397</td>\n    </tr>\n    <tr>\n      <th>3</th>\n      <td>가양동</td>\n      <td>11500104</td>\n      <td>1911</td>\n    </tr>\n    <tr>\n      <th>4</th>\n      <td>가회동</td>\n      <td>11110146</td>\n      <td>573</td>\n    </tr>\n    <tr>\n      <th>...</th>\n      <td>...</td>\n      <td>...</td>\n      <td>...</td>\n    </tr>\n    <tr>\n      <th>462</th>\n      <td>후암동</td>\n      <td>11170101</td>\n      <td>716</td>\n    </tr>\n    <tr>\n      <th>463</th>\n      <td>훈정동</td>\n      <td>11110150</td>\n      <td>0</td>\n    </tr>\n    <tr>\n      <th>464</th>\n      <td>휘경동</td>\n      <td>11230109</td>\n      <td>1386</td>\n    </tr>\n    <tr>\n      <th>465</th>\n      <td>흑석동</td>\n      <td>11590105</td>\n      <td>2740</td>\n    </tr>\n    <tr>\n      <th>466</th>\n      <td>흥인동</td>\n      <td>11140163</td>\n      <td>0</td>\n    </tr>\n  </tbody>\n</table>\n<p>467 rows × 3 columns</p>\n</div>"
     },
     "metadata": {},
     "execution_count": 13
    }
   ],
   "source": [
    "card_df = pd.read_csv('DATA_서울시 신한카드 장애인 복지카드 이용현황_prc.csv', encoding = 'cp949')\n",
    "card_df"
   ]
  },
  {
   "cell_type": "markdown",
   "metadata": {},
   "source": [
    "# 대규모점포 인허가 정보"
   ]
  },
  {
   "cell_type": "markdown",
   "metadata": {},
   "source": [
    "#### DATA_대규모점포 인허가 정보_prc.csv\n",
    "-> 위의 데이터는 <DATA_대규모점포 인허가 정보_raw.csv> 데이터를 QGIS에서 시각화 후 법정동별로 카운트한 데이터"
   ]
  },
  {
   "cell_type": "code",
   "execution_count": 14,
   "metadata": {},
   "outputs": [
    {
     "output_type": "execute_result",
     "data": {
      "text/plain": "    EMD_NM    EMD_CD  SHOP_CNT\n0      가락동  11710107         6\n1     가리봉동  11530103         0\n2      가산동  11545101         6\n3      가양동  11500104         4\n4      가회동  11110146         0\n..     ...       ...       ...\n462    후암동  11170101         0\n463    훈정동  11110150         0\n464    휘경동  11230109         0\n465    흑석동  11590105         1\n466    흥인동  11140163         1\n\n[467 rows x 3 columns]",
      "text/html": "<div>\n<style scoped>\n    .dataframe tbody tr th:only-of-type {\n        vertical-align: middle;\n    }\n\n    .dataframe tbody tr th {\n        vertical-align: top;\n    }\n\n    .dataframe thead th {\n        text-align: right;\n    }\n</style>\n<table border=\"1\" class=\"dataframe\">\n  <thead>\n    <tr style=\"text-align: right;\">\n      <th></th>\n      <th>EMD_NM</th>\n      <th>EMD_CD</th>\n      <th>SHOP_CNT</th>\n    </tr>\n  </thead>\n  <tbody>\n    <tr>\n      <th>0</th>\n      <td>가락동</td>\n      <td>11710107</td>\n      <td>6</td>\n    </tr>\n    <tr>\n      <th>1</th>\n      <td>가리봉동</td>\n      <td>11530103</td>\n      <td>0</td>\n    </tr>\n    <tr>\n      <th>2</th>\n      <td>가산동</td>\n      <td>11545101</td>\n      <td>6</td>\n    </tr>\n    <tr>\n      <th>3</th>\n      <td>가양동</td>\n      <td>11500104</td>\n      <td>4</td>\n    </tr>\n    <tr>\n      <th>4</th>\n      <td>가회동</td>\n      <td>11110146</td>\n      <td>0</td>\n    </tr>\n    <tr>\n      <th>...</th>\n      <td>...</td>\n      <td>...</td>\n      <td>...</td>\n    </tr>\n    <tr>\n      <th>462</th>\n      <td>후암동</td>\n      <td>11170101</td>\n      <td>0</td>\n    </tr>\n    <tr>\n      <th>463</th>\n      <td>훈정동</td>\n      <td>11110150</td>\n      <td>0</td>\n    </tr>\n    <tr>\n      <th>464</th>\n      <td>휘경동</td>\n      <td>11230109</td>\n      <td>0</td>\n    </tr>\n    <tr>\n      <th>465</th>\n      <td>흑석동</td>\n      <td>11590105</td>\n      <td>1</td>\n    </tr>\n    <tr>\n      <th>466</th>\n      <td>흥인동</td>\n      <td>11140163</td>\n      <td>1</td>\n    </tr>\n  </tbody>\n</table>\n<p>467 rows × 3 columns</p>\n</div>"
     },
     "metadata": {},
     "execution_count": 14
    }
   ],
   "source": [
    "shop_df =  pd.read_csv('DATA_대규모점포 인허가 정보_prc.csv', encoding = 'cp949')\n",
    "shop_df"
   ]
  },
  {
   "cell_type": "markdown",
   "metadata": {},
   "source": [
    "# 활용데이터 전체 JOIN"
   ]
  },
  {
   "cell_type": "code",
   "execution_count": 15,
   "metadata": {},
   "outputs": [],
   "source": [
    "join1 = pd.merge(left = dong_shp_df, right = disabled_df.iloc[:, 1:], how = 'left', on = 'EMD_CD')\n",
    "join2 = pd.merge(left = join1, right = shop_df.iloc[:, 1:], how = 'left', on = 'EMD_CD')\n",
    "join3 = pd.merge(left = join2, right = taxi_df.iloc[:, 1:], how = 'left', on = \"EMD_CD\")\n",
    "join4 = pd.merge(left = join3, right = job_df.iloc[:, 1:], how = 'left', on = 'EMD_CD')\n",
    "join5 = pd.merge(left = join4, right = welfare_df.iloc[:, 1:], how = 'left', on = 'EMD_CD')\n",
    "join6 = pd.merge(left = join5, right = card_df.iloc[:, 1:], how = 'left', on = 'EMD_CD')\n",
    "\n",
    "# 결측치 처리 및 저장\n",
    "total = join6.fillna(0)\n",
    "total.set_index('EMD_CD', inplace = True)\n",
    "total\n",
    "total.to_csv('DATA_TOTAL DATASET.csv', encoding = 'cp949')"
   ]
  }
 ],
 "metadata": {
  "kernelspec": {
   "display_name": "Python 3",
   "language": "python",
   "name": "python3"
  },
  "language_info": {
   "codemirror_mode": {
    "name": "ipython",
    "version": 3
   },
   "file_extension": ".py",
   "mimetype": "text/x-python",
   "name": "python",
   "nbconvert_exporter": "python",
   "pygments_lexer": "ipython3",
   "version": "3.8.3-final"
  }
 },
 "nbformat": 4,
 "nbformat_minor": 4
}